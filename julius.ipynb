{
 "cells": [
  {
   "cell_type": "code",
   "execution_count": 49,
   "metadata": {
    "collapsed": true
   },
   "outputs": [],
   "source": [
    "import numpy as np\n",
    "from subprocess import check_output\n",
    "import tempfile,os\n",
    "from collections import Counter"
   ]
  },
  {
   "cell_type": "code",
   "execution_count": 3,
   "metadata": {
    "collapsed": true
   },
   "outputs": [],
   "source": [
    "from HTKRW import openx\n",
    "def MakeLSTMdata(set_name):\n",
    "    #read file list for multi training\n",
    "    f=open('/home/jango/distillation/%s/feature/list%s/' %(typ,SET) +set_name+\"mfc.list\",\"r\")\n",
    "    multi=f.readlines()\n",
    "    f.close()\n",
    "    #read state ids\n",
    "    state_ids=dict([(line.split()) for line in open(STATE_IDS,\"r\")])\n",
    "    #vecs_stu=[]\n",
    "    vecs_tea=[]\n",
    "    targets=[]\n",
    "    for fname in multi:\n",
    "        name=fname.split(\"/\")[-1][:-5]\n",
    "        #print name\n",
    "        #read teacher features\n",
    "        tf=openx(FEA+name+\".mfc\",'rb',veclen=39)\n",
    "        tea_Fea=tf.getall()\n",
    "        vecs_tea.append(tea_Fea)\n",
    "        #read student features\n",
    "        #sf=openx(STU_FEA+name+\".mfc\",'rb',veclen=39)\n",
    "        #stu_Fea=sf.getall()\n",
    "        #vecs_stu.append(stu_Fea)  \n",
    "        #read state alignment\n",
    "        lines=open(ALIGN+name + \".aln\").readlines()\n",
    "        #turn into targets[0-119]\n",
    "        states=[]\n",
    "        for state,num in [line.split() for line in lines]:\n",
    "            states+=[state,]*int(num)\n",
    "        states2Id=[]\n",
    "        for state in states:\n",
    "            states2Id.append(int(state_ids[state]))\n",
    "        targets.append(np.array(states2Id).T)\n",
    "    #save data\n",
    "    print len(vecs_tea)\n",
    "    np.save(LSTM_FILE+typ[:3]+'_'+set_name+\"_lstm\",vecs_tea)\n",
    "\n",
    "    print len(targets)\n",
    "    np.save(LSTM_FILE+typ[:3]+'_'+set_name+\"_target_lstm\",targets)"
   ]
  },
  {
   "cell_type": "code",
   "execution_count": 50,
   "metadata": {
    "collapsed": true
   },
   "outputs": [],
   "source": [
    "LSTM_FILE='/home/jango/distillation/%s/LSTMFile%s/' %('teacher',5)"
   ]
  },
  {
   "cell_type": "code",
   "execution_count": 9,
   "metadata": {
    "collapsed": true
   },
   "outputs": [],
   "source": [
    "sX=np.load(LSTM_FILE+'stu_train_lstm.npy')\n",
    "sY=np.load(LSTM_FILE+'stu_train_target_lstm.npy')"
   ]
  },
  {
   "cell_type": "code",
   "execution_count": 51,
   "metadata": {
    "collapsed": true
   },
   "outputs": [],
   "source": [
    "tX=np.load(LSTM_FILE+'tea_train_lstm.npy')\n",
    "tY=np.load(LSTM_FILE+'tea_train_target_lstm.npy')"
   ]
  },
  {
   "cell_type": "code",
   "execution_count": 55,
   "metadata": {},
   "outputs": [
    {
     "data": {
      "text/plain": [
       "array([-0.24956669, -0.14723873,  1.27871704,  0.07227213,  0.28193694,\n",
       "        1.17658603,  0.331485  ,  0.41130596,  0.43153089, -0.16369902,\n",
       "        0.81067055, -0.84944725,  1.4812175 ,  1.13624191,  1.42220628,\n",
       "        0.94348812, -0.15366045, -0.13010766,  0.15865998, -0.03347222,\n",
       "        0.03275957, -0.01095442,  0.04287053, -0.07963267,  0.0533359 ,\n",
       "       -0.03520636,  0.08795436, -0.08901089,  0.40679699,  0.17076504,\n",
       "        0.39674458,  0.26932523, -0.15536883, -0.21547285,  0.08192389,\n",
       "       -0.03573019,  0.02145335,  0.01047686,  0.01854979, -0.21705627,\n",
       "        0.03775462, -0.04870525,  0.04668314, -0.15468124,  0.47302049,\n",
       "        0.1948705 ,  0.58435661,  0.38942787], dtype=float32)"
      ]
     },
     "execution_count": 55,
     "metadata": {},
     "output_type": "execute_result"
    }
   ],
   "source": [
    "tX[0][0][39:]"
   ]
  },
  {
   "cell_type": "code",
   "execution_count": 20,
   "metadata": {},
   "outputs": [
    {
     "name": "stdout",
     "output_type": "stream",
     "text": [
      "521\n",
      "521\n",
      "2917\n",
      "2917\n",
      "433\n",
      "433\n",
      "3005\n",
      "3005\n",
      "481\n",
      "481\n",
      "2957\n",
      "2957\n",
      "498\n",
      "498\n",
      "2940\n",
      "2940\n",
      "448\n",
      "448\n",
      "2990\n",
      "2990\n",
      "497\n",
      "497\n",
      "2941\n",
      "2941\n",
      "560\n",
      "560\n",
      "2878\n",
      "2878\n"
     ]
    }
   ],
   "source": [
    "OPT=\"-sb 160 -b2 60 -s 1000 -m 4000 -quiet -1pass\"\n",
    "DIC=\"/home/jango/distillation/shared_babel/phone.dic\"\n",
    "LM=\"/home/jango/distillation/shared_babel/pdnet\"\n",
    "HLIST=\"/home/jango/distillation/shared_babel/monophones1\"\n",
    "SALIGN='-salign -sb 160 -b2 60 -s 1000 -m 4000 -quiet -1pass'\n",
    "STATE_IDS='/home/jango/distillation/shared_babel/StateId'\n",
    "typ='teacher'\n",
    "for i in [0,1,2,3,4,5,6]:\n",
    "    SET=str(i)\n",
    "    MODEL=\"/home/jango/distillation/%s/HMM%s/hmmdefs\" %(typ,SET)\n",
    "    STATE_PRIOR='/home/jango/distillation/%s/StatPrior%s_' %(typ,SET)\n",
    "    ALIGN='/home/jango/distillation/%s/StateAlign%s/' %(typ,SET)\n",
    "    testlist='/home/jango/distillation/%s/feature/list%s/testmfc.list' %(typ,SET)\n",
    "    trainlist='/home/jango/distillation/%s/feature/list%s/trainmfc.list' %(typ,SET)\n",
    "    valilist='/home/jango/distillation/%s/feature/list%s/validationmfc.list' %(typ,SET)\n",
    "    DNN_FILE='/home/jango/distillation/%s/DnnFile%s/' %(typ,SET)\n",
    "    LSTM_FILE='/home/jango/distillation/%s/LSTMFile%s/' %(typ,SET)\n",
    "    FEA='/home/jango/distillation/%s/feature/data/' %typ\n",
    "    #Recognition(testlist,7,3,i)\n",
    "    GetStateAlign(\"test\")\n",
    "    GetStateAlign(\"train\")\n",
    "    MakeLSTMdata(\"test\")\n",
    "    #MakeLSTMdata(\"validation\")\n",
    "    MakeLSTMdata(\"train\")\n",
    "\n"
   ]
  },
  {
   "cell_type": "code",
   "execution_count": 39,
   "metadata": {},
   "outputs": [
    {
     "name": "stdout",
     "output_type": "stream",
     "text": [
      "6.68\n",
      "6.06\n",
      "6.52\n",
      "6.69\n",
      "6.35\n",
      "6.13\n",
      "6.02\n"
     ]
    }
   ],
   "source": [
    "OPT=\"-sb 160 -b2 60 -s 1000 -m 4000 -quiet -1pass\"\n",
    "DIC=\"/home/jango/distillation/shared_babel/phone.dic\"\n",
    "LM=\"/home/jango/distillation/pdnet\"\n",
    "HLIST=\"/home/jango/distillation/shared_babel/monophones1\"\n",
    "SALIGN='-salign -sb 160 -b2 60 -s 1000 -m 4000 -quiet -1pass'\n",
    "STATE_IDS='/home/jango/distillation/shared_babel/StateId'\n",
    "typ='teacher'\n",
    "for i in [0,1,2,3,4,5,6]:\n",
    "    SET=str(i)#\"/home/jango/joint2/HMM/hmmdefs%s\" %(typ2,setID)\n",
    "    MODEL=\"/home/jango/joint2/%s/HMM/hmmdefs%s\" %(typ,SET)\n",
    "    STATE_PRIOR='/home/jango/distillation/%s/StatPrior%s_' %(typ,SET)\n",
    "    ALIGN='/home/jango/distillation/%s/StateAlign%s/' %(typ,SET)\n",
    "    testlist='/home/jango/distillation/%s/feature/list%s/testmfc.list' %(typ,SET)\n",
    "    trainlist='/home/jango/distillation/%s/feature/list%s/trainmfc.list' %(typ,SET)\n",
    "    valilist='/home/jango/distillation/%s/feature/list%s/validationmfc.list' %(typ,SET)\n",
    "    testlist='/home/jango/distillation/list/set%s/%s_train_mfc.list' %(SET,typ[:3])\n",
    "    DNN_FILE='/home/jango/distillation/%s/DnnFile%s/' %(typ,SET)\n",
    "    LSTM_FILE='/home/jango/distillation/%s/LSTMFile%s/' %(typ,SET)\n",
    "    FEA='/home/jango/distillation/%s/feature/data/' %typ\n",
    "    Recognition(testlist,7,2,i)\n",
    "    #MakeLSTMdata(\"test\")\n",
    "    #MakeLSTMdata(\"validation\")\n",
    "    #MakeLSTMdata(\"train\")"
   ]
  },
  {
   "cell_type": "code",
   "execution_count": 48,
   "metadata": {},
   "outputs": [
    {
     "name": "stdout",
     "output_type": "stream",
     "text": [
      "31.82\n",
      "34.21\n",
      "36.12\n",
      "32.0\n",
      "33.52\n",
      "29.87\n",
      "37.66\n"
     ]
    }
   ],
   "source": [
    "OPT=\"-sb 160 -b2 60 -s 1000 -m 4000 -quiet -1pass\"\n",
    "DIC=\"/home/jango/distillation/shared_babel/phone.dic\"\n",
    "LM=\"/home/jango/distillation/pdnet\"\n",
    "HLIST=\"/home/jango/distillation/shared_babel/monophones1\"\n",
    "SALIGN='-salign -sb 160 -b2 60 -s 1000 -m 4000 -quiet -1pass'\n",
    "STATE_IDS='/home/jango/distillation/shared_babel/StateId'\n",
    "typ='teacher'\n",
    "for i in [0,1,2,3,4,5,6]:\n",
    "    SET=str(i)#\"/home/jango/joint2/HMM/hmmdefs%s\" %(typ2,setID)\n",
    "    MODEL=\"/home/jango/HMM/tea_hmmdefs%s\" %(SET)\n",
    "    STATE_PRIOR='/home/jango/distillation/%s/StatPrior%s_' %(typ,SET)\n",
    "    ALIGN='/home/jango/distillation/%s/StateAlign%s/' %(typ,SET)\n",
    "    testlist='/home/jango/distillation/%s/feature/list%s/testmfc.list' %(typ,SET)\n",
    "    trainlist='/home/jango/distillation/%s/feature/list%s/trainmfc.list' %(typ,SET)\n",
    "    valilist='/home/jango/distillation/%s/feature/list%s/validationmfc.list' %(typ,SET)\n",
    "    testlist='/home/jango/distillation/list/set%s/%s_testonly5_mfc.list' %(SET,typ[:3])\n",
    "    DNN_FILE='/home/jango/distillation/%s/DnnFile%s/' %(typ,SET)\n",
    "    LSTM_FILE='/home/jango/distillation/%s/LSTMFile%s/' %(typ,SET)\n",
    "    FEA='/home/jango/distillation/%s/feature/data/' %typ\n",
    "    Recognition(testlist,7,2,i)\n",
    "    #MakeLSTMdata(\"test\")\n",
    "    #MakeLSTMdata(\"validation\")\n",
    "    #MakeLSTMdata(\"train\")"
   ]
  },
  {
   "cell_type": "code",
   "execution_count": 5,
   "metadata": {},
   "outputs": [
    {
     "ename": "SyntaxError",
     "evalue": "invalid syntax (<ipython-input-5-8b78e52a8d7f>, line 14)",
     "output_type": "error",
     "traceback": [
      "\u001b[1;36m  File \u001b[1;32m\"<ipython-input-5-8b78e52a8d7f>\"\u001b[1;36m, line \u001b[1;32m14\u001b[0m\n\u001b[1;33m    testdnn=\u001b[0m\n\u001b[1;37m            ^\u001b[0m\n\u001b[1;31mSyntaxError\u001b[0m\u001b[1;31m:\u001b[0m invalid syntax\n"
     ]
    }
   ],
   "source": [
    "OPT=\"-sb 160 -b2 60 -s 1000 -m 4000 -quiet -1pass\"\n",
    "DIC=\"/home/jango/distillation/shared_babel/phone.dic\"\n",
    "LM=\"/home/jango/distillation/shared_babel/pdnet\"\n",
    "HLIST=\"/home/jango/distillation/shared_babel/monophones1\"\n",
    "SALIGN='-salign -sb 160 -b2 60 -s 1000 -m 4000 -quiet -1pass'\n",
    "STATE_IDS='/home/jango/distillation/shared_babel/StateId'\n",
    "typ='teacher'\n",
    "for i in [0]:\n",
    "    SET=str(i)\n",
    "    MODEL=\"/home/jango/distillation/%s/HMM%s/hmmdefs\" %(typ,SET)\n",
    "    STATE_PRIOR='/home/jango/distillation/%s/StatPrior_' %typ\n",
    "    ALIGN='/home/jango/distillation/%s/StateAlign/' %typ\n",
    "    testlist='/home/jango/distillation/%s/feature/list%s/testmfc.list' %(typ,SET)\n",
    "    testdnn=\n",
    "    RecogWithStateProbs('test',2,2,SET)"
   ]
  },
  {
   "cell_type": "code",
   "execution_count": 6,
   "metadata": {
    "collapsed": true
   },
   "outputs": [],
   "source": [
    "def Recognition(filelist,s,p,nn):\n",
    "    #recognize using julius\n",
    "    cmd='echo | julius-4.3.1 -filelist %s -hlist %s -h %s -nlr %s -v %s %s -lmp %s %s' %(filelist, HLIST, MODEL, LM, DIC, OPT, s, p)\n",
    "    result=check_output(cmd,shell=1).split(\"\\n\")\n",
    "    phone=[\"#!MLF!#\\n\"]\n",
    "    f=open(filelist,\"r\")\n",
    "    train=f.readlines()\n",
    "    f.close()\n",
    "    i=0\n",
    "    #take result lines\n",
    "    setname=filelist.split(\"/\")[-1].split(\"mfc\")[0]\n",
    "    for r in result:\n",
    "        if 'sentence1' in r:\n",
    "            fn='\"*/'+train[i].split(\"/\")[-1][:-5]+'.rec\"\\n'\n",
    "            rec=((\"s_s\"+r.split(\"<s>\")[1]).replace(\"</s>\",\"s_e\")).replace(\" \",\"\\n\")+\"\\n.\\n\"\n",
    "            phone.append(fn+rec)\n",
    "            i+=1\n",
    "    #write mlf'/home/jango/distillation2/shared_babel%s/mlf%s/all.mlf' %(typ[:3],setID)\n",
    "    fw=open(\"/home/jango/%s.mlf\" %(setname),\"w\")\n",
    "    for p in phone:\n",
    "        fw.write(p)\n",
    "    fw.close()\n",
    "    #run HTK HResults\n",
    "    cmd='HResults -A -z ::: -I /home/jango/distillation2/shared_babel%s/mlf%s/all.mlf -e ::: s_s -e ::: s_e %s /home/jango/%s.mlf' %(typ[:3],nn,HLIST,setname)\n",
    "    acc=check_output(cmd,shell=1)\n",
    "    #print acc\n",
    "    PER=100-float(acc.split(\"\\n\")[-3].split(\" \")[2].split(\"=\")[1])\n",
    "    print PER\n",
    "    return PER"
   ]
  },
  {
   "cell_type": "code",
   "execution_count": 4,
   "metadata": {
    "collapsed": true
   },
   "outputs": [],
   "source": [
    "def RecogWithStateProbs(filelist,s,p,nn):\n",
    "    #recognize using julius\n",
    "    config=tempfile.mktemp()\n",
    "    cmd='echo | julius-4.3.1 -filelist %s -hlist %s -h %s -nlr %s -v %s %s -lmp %s %s %s' %(filelist, HLIST, MODEL, LM, DIC, OPT, s, p,\"-input outprob\")\n",
    "    result=check_output(cmd,shell=1).split(\"\\n\")\n",
    "    print cmd\n",
    "    \n",
    "    phone=[\"#!MLF!#\\n\"]\n",
    "    f=open(filelist,\"r\")\n",
    "    train=f.readlines()\n",
    "    f.close()\n",
    "    i=0\n",
    "    #take result lines\n",
    "    setname=filelist.split(\"/\")[-1].split(\"mfc\")[0]\n",
    "    for r in result:\n",
    "        if 'sentence1' in r:\n",
    "            fn='\"*/'+train[i].split(\"/\")[-1][:-5]+'.rec\"\\n'\n",
    "            rec=((\"s_s\"+r.split(\"<s>\")[1]).replace(\"</s>\",\"s_e\")).replace(\" \",\"\\n\")+\"\\n.\\n\"\n",
    "            phone.append(fn+rec)\n",
    "            i+=1\n",
    "    #write mlf\n",
    "    fw=open(\"/home/jango/ASR/39D/labels/%s.mlf\" %(setname),\"w\")\n",
    "    for p in phone:\n",
    "        fw.write(p)\n",
    "    fw.close()\n",
    "    #run HTK HResults\n",
    "    cmd='HResults -A -z ::: -I /home/jango/distillation/shared_babel/mlf%s/aligned%s.mlf -e ::: s_s -e ::: s_e %s /home/jango/ASR/39D/labels/%s.mlf' %(nn,setname,HLIST,setname)\n",
    "    acc=check_output(cmd,shell=1)\n",
    "    print acc\n",
    "    PER=100-float(acc.split(\"\\n\")[-3].split(\" \")[2].split(\"=\")[1])\n",
    "    return PER"
   ]
  },
  {
   "cell_type": "code",
   "execution_count": 9,
   "metadata": {
    "collapsed": true
   },
   "outputs": [],
   "source": [
    "def StateIdMaker(hmmdef):#make state id file according to hmmdef :[statd, id]\n",
    "    f=open(hmmdef,\"r\")\n",
    "    lines=f.readlines()\n",
    "    f.close()\n",
    "    IdFile=[\"sil_#2 0\"]\n",
    "    Id=1\n",
    "    for line in lines[9:]:\n",
    "        if '~h \"sil\"' in line:\n",
    "            IdFile.append(\"sil_#1 %s\" %(str(Id)))\n",
    "            Id+=1\n",
    "            IdFile.append(\"sil_#3 %s\" %(str(Id)))\n",
    "            Id+=1\n",
    "        elif '~h ' in line and (\"sp\" in line)!=1 :\n",
    "            hname=line.split('\"')[1]\n",
    "            IdFile.append(\"%s_#1 %s\" %(hname,str(Id)))\n",
    "            Id+=1\n",
    "            IdFile.append(\"%s_#2 %s\" %(hname,str(Id)))\n",
    "            Id+=1\n",
    "            IdFile.append(\"%s_#3 %s\" %(hname,str(Id)))\n",
    "            Id+=1\n",
    "    f=open(\"/home/jango/distillation/teacher/labels/StateId\",\"w\")\n",
    "    f.write(\"\\n\".join(IdFile))\n",
    "    f.close()\n",
    "    #return IdFile"
   ]
  },
  {
   "cell_type": "code",
   "execution_count": 10,
   "metadata": {
    "collapsed": true
   },
   "outputs": [],
   "source": [
    "StateIdMaker(\"/home/jango/ASR/39+48D/models/hmm9/hmmdefs\")"
   ]
  },
  {
   "cell_type": "code",
   "execution_count": null,
   "metadata": {
    "collapsed": true
   },
   "outputs": [],
   "source": [
    "OPT=\"-sb 160 -b2 60 -s 1000 -m 4000 -quiet -1pass\"\n",
    "PATH=\"/home/jango/ASR/39+48D/julius/\"\n",
    "trainlist=PATH+\"filelist/trainmfc.list\"\n",
    "testlist=PATH+\"filelist/testmfc.list\"\n",
    "testlist2=PATH+\"testmfcStateP.list\"#test state pro\n",
    "testlist2stu=PATH+\"testmfcStatePstu.list\"\n",
    "testlistStateProDis=PATH+\"testmfcStateProDis.list\"\n",
    "validationlist=PATH+\"validationmfc.list\"\n",
    "HLIST=\"/home/jango/ASR/JW45_39+36D/labels/monophones1\"\n",
    "MODEL=\"/home/jango/ASR/39+48D/models/hmm384/hmmdefs\"\n",
    "LM=\"/home/jango/ASR/39+36D/LM/pdnet\"\n",
    "DIC=\"/home/jango/ASR/JW45_39+36D/dictionary/phone.dic\"\n",
    "SALIGN='-salign -sb 160 -b2 60 -s 1000 -m 4000 -quiet -1pass'\n",
    "STATE_IDS=PATH+'/StateId'\n",
    "STATE_PRIOR=PATH+'/StatePrior'\n",
    "TEA_FEA='/home/jango/ASR/new_features/HTKfile/M39A48_julius/'\n",
    "STU_FEA='/home/jango/ASR/new_features/HTKfile/MFC39/'\n",
    "ALIGN='/home/jango/ASR/39+48D/julius/salign/'\n",
    "DNN_FILE='/home/jango/ASR/39+48D/julius/DnnFile/'"
   ]
  },
  {
   "cell_type": "code",
   "execution_count": 19,
   "metadata": {
    "collapsed": true
   },
   "outputs": [],
   "source": [
    "def MakeGrammar(words):\n",
    "    nosp='_'.join(words).replace(\"sp_\",\"\").split(\"_\")\n",
    "    num =len(nosp)\n",
    "    dfa=[]\n",
    "    for i in range(num):\n",
    "        ss='%d %d %d 0' %(i, num-i-1,i+1)\n",
    "        if i ==0:\n",
    "            dfa.append(ss+' 1')\n",
    "        else:\n",
    "            dfa.append(ss+' 0')\n",
    "    dfa.append('%d -1 -1 1 0' % num)\n",
    "    \n",
    "    dic=[]\n",
    "    p=0\n",
    "    for i in range(num):\n",
    "        dic.append('%i [w_%i] %s' %(i, i, nosp[i]))\n",
    "        if (words+[0])[p+1]==\"sp\":\n",
    "            dic.append('%i [w_%i] %s' %(i, i, nosp[i]+' sil'))\n",
    "            p+=1\n",
    "        p+=1\n",
    "    return dfa,dic\n",
    "\n",
    "\n",
    "def CountStates(lines,fname):\n",
    "    inLoop=False\n",
    "    cnt=Counter()\n",
    "    states=[]\n",
    "    \n",
    "    for line in lines:\n",
    "        if len(line)==0:\n",
    "            continue\n",
    "        if line[:21] == '-- state alignment --':\n",
    "            inLoop= True\n",
    "        if line[0]=='[' and inLoop:\n",
    "            ll=line.replace(']','').replace('[','').split()\n",
    "            start=int(ll[0])\n",
    "            end=int(ll[1])\n",
    "            state='_'.join(ll[-2:])\n",
    "            #if state=='sil_#2':\n",
    "            #    print fname\n",
    "            num=end-start+1\n",
    "            cnt[state]+=num\n",
    "            states.append([state,num])\n",
    "    if len(states)==0:\n",
    "        raise ValueError ('No alignment')\n",
    "    #save alignment\n",
    "    with open(fname,\"w\") as fd:\n",
    "        for state in states:\n",
    "            fd.write('%s %d\\n' %(state[0],state[1]))\n",
    "    return cnt\n",
    "\n",
    "def GetStateAlign(set_name):\n",
    "    #make some temp files\n",
    "    dfa_file=tempfile.mktemp()\n",
    "    dic_file=tempfile.mktemp()\n",
    "    \n",
    "    #read transcriptions---->labs[filename]: list of words\n",
    "    labs={} #output\n",
    "    f=open(\"/home/jango/distillation/shared_babel/mlf_sp%s/aligned\" %SET+set_name+\".mlf\",\"r\")\n",
    "    lines=f.readlines()\n",
    "    f.close()\n",
    "    for line in lines[1:]:\n",
    "        if \".lab\" in line:\n",
    "            words=[]\n",
    "            name=line[3:-6]\n",
    "        elif line[0]== '.':\n",
    "            labs[name]=words\n",
    "        else:\n",
    "            words.append(line[:-1])\n",
    "    #return labs\n",
    "    #read file list\n",
    "    f=open(\"/home/jango/distillation/%s/feature/list%s/\" %(typ,SET)+set_name+\"mfc.list\",\"r\")\n",
    "    fnames=f.readlines()\n",
    "    f.close()\n",
    "    #initialize state counts for state prior probs\n",
    "    states=Counter()\n",
    "    #run forced alignment\n",
    "    for name in fnames:\n",
    "        utid =name.split(\"/\")[-1][:-5]\n",
    "        fname=name[:-1]\n",
    "        aname=ALIGN+utid + \".aln\"\n",
    "        dfa,dic=MakeGrammar(labs[utid])\n",
    "        with open(dfa_file,'w') as fd:\n",
    "            fd.write('\\n'.join(dfa)+'\\n')\n",
    "        with open(dic_file,'w') as fd:\n",
    "            fd.write('\\n'.join(dic)+'\\n')  \n",
    "    #get state output probs\n",
    "        cmd = 'echo %s | julius -h %s -hlist %s -dfa %s -v %s %s' %(fname, MODEL, HLIST, dfa_file, dic_file, SALIGN)\n",
    "        outp=check_output(cmd,shell=1)\n",
    "    #parse output to get state counts and save alignment\n",
    "        states.update(CountStates(outp.split('\\n'),aname))\n",
    "    #read state ids\n",
    "    ids=dict([(line.split()) for line in open(STATE_IDS,\"r\")])\n",
    "    #Calculate state prior probs\n",
    "    tot =float(sum(states.values()))\n",
    "    priors={}\n",
    "    for state in states:\n",
    "        priors[ids[state]] = states[state] / tot\n",
    "    #save \n",
    "    with open(STATE_PRIOR+set_name,\"w\") as fd:\n",
    "        for stid, proir in priors.items():\n",
    "            fd.write('%s %f\\n' %(stid,proir))\n",
    "    return states,priors,ids"
   ]
  },
  {
   "cell_type": "code",
   "execution_count": 8,
   "metadata": {
    "collapsed": true
   },
   "outputs": [],
   "source": [
    "typ='student'\n",
    "MODEL=\"/home/jango/distillation/%s/HMM/hmmdefs\" %typ\n",
    "DIC=\"/home/jango/distillation/shared_babel/phone.dic\"\n",
    "LM=\"/home/jango/distillation/shared_babel/pdnet\"\n",
    "HLIST=\"/home/jango/distillation/shared_babel/monophones1\"\n",
    "SALIGN='-salign -sb 160 -b2 60 -s 1000 -m 4000 -quiet -1pass'\n",
    "STATE_IDS='/home/jango/distillation/shared_babel/StateId'\n",
    "STATE_PRIOR='/home/jango/distillation/%s/StatPrior_' %typ\n",
    "ALIGN='/home/jango/distillation/%s/StateAlign/' %typ\n",
    "OPT=\"-sb 160 -b2 60 -s 1000 -m 4000 -quiet -1pass\"\n",
    "testlist='/home/jango/distillation/%s/feature/list/testmfc.list' %typ\n",
    "DNN_FILE='/home/jango/distillation/%s/DnnFile/' %typ\n",
    "LSTM_FILE='/home/jango/distillation/%s/LSTMFile/' %typ\n",
    "FEA='/home/jango/distillation/%s/feature/data/' %typ\n",
    "#Recognition(testlist,7,2)"
   ]
  },
  {
   "cell_type": "code",
   "execution_count": 3,
   "metadata": {
    "collapsed": true
   },
   "outputs": [],
   "source": [
    "from HTKRW import openx\n",
    "def MakeDNNdata(set_name):\n",
    "    #read file list for multi training\n",
    "    f=open('/home/jango/distillation/%s/feature/list%s/' %(typ,SET) +set_name+\"mfc.list\",\"r\")\n",
    "    multi=f.readlines()\n",
    "    f.close()\n",
    "    #read state ids\n",
    "    state_ids=dict([(line.split()) for line in open(STATE_IDS,\"r\")])\n",
    "    \n",
    "#    vecs_stu=[]\n",
    "    vecs_tea=[]\n",
    "    targets=[]\n",
    "    for fname in multi:\n",
    "        name=fname.split(\"/\")[-1][:-5]\n",
    "        #print name\n",
    "        #read teacher features\n",
    "        tf=openx(FEA+name+\".mfc\",'rb',veclen=39)\n",
    "        tea_Fea=tf.getall()\n",
    "        vecs_tea.append(tea_Fea)\n",
    "        #read student features\n",
    "        #sf=openx(STU_FEA+name+\".mfc\",'rb',veclen=39)\n",
    "        #stu_Fea=sf.getall()\n",
    "        #vecs_stu.append(stu_Fea)  \n",
    "        #read state alignment\n",
    "        lines=open(ALIGN+name + \".aln\").readlines()\n",
    "        #turn into targets[0-119]\n",
    "        states=[]\n",
    "        for state,num in [line.split() for line in lines]:\n",
    "            states+=[state,]*int(num)\n",
    "        for state in states:\n",
    "            targets.append(int(state_ids[state]))\n",
    "    #save data\n",
    "    \n",
    "    vecs=np.vstack(vecs_tea)\n",
    "    print vecs.shape\n",
    "    np.save(DNN_FILE+'stu_'+set_name,vecs)\n",
    "    \n",
    "    #vecs=np.vstack(vecs_stu)\n",
    "    #print vecs.shape\n",
    "    #np.save(DNN_FILE+'stu_'+set_name,vecs)\n",
    "\n",
    "    vecs=np.array(targets)\n",
    "    print vecs.shape\n",
    "    np.save(DNN_FILE+'stu_'+set_name+\"_target\",vecs)"
   ]
  },
  {
   "cell_type": "code",
   "execution_count": 16,
   "metadata": {
    "collapsed": true
   },
   "outputs": [],
   "source": [
    "from HTKRW import openx\n",
    "def MakeLSTMdata(set_name):\n",
    "    #read file list for multi training\n",
    "    f=open('/home/jango/distillation/%s/feature/list%s/' %(typ,SET) +set_name+\"mfc.list\",\"r\")\n",
    "    multi=f.readlines()\n",
    "    f.close()\n",
    "    #read state ids\n",
    "    state_ids=dict([(line.split()) for line in open(STATE_IDS,\"r\")])\n",
    "    #vecs_stu=[]\n",
    "    vecs_tea=[]\n",
    "    targets=[]\n",
    "    for fname in multi:\n",
    "        name=fname.split(\"/\")[-1][:-5]\n",
    "        #print name\n",
    "        #read teacher features\n",
    "        tf=openx(FEA+name+\".mfc\",'rb',veclen=39)\n",
    "        tea_Fea=tf.getall()\n",
    "        vecs_tea.append(tea_Fea)\n",
    "        #read student features\n",
    "        #sf=openx(STU_FEA+name+\".mfc\",'rb',veclen=39)\n",
    "        #stu_Fea=sf.getall()\n",
    "        #vecs_stu.append(stu_Fea)  \n",
    "        #read state alignment\n",
    "        lines=open(ALIGN+name + \".aln\").readlines()\n",
    "        #turn into targets[0-119]\n",
    "        states=[]\n",
    "        for state,num in [line.split() for line in lines]:\n",
    "            states+=[state,]*int(num)\n",
    "        states2Id=[]\n",
    "        for state in states:\n",
    "            states2Id.append(int(state_ids[state]))\n",
    "        targets.append(np.array(states2Id).T)\n",
    "    #save data\n",
    "    print len(vecs_tea)\n",
    "    np.save(LSTM_FILE+typ[:3]+'_'+set_name+\"_lstm\",vecs_tea)\n",
    "\n",
    "    print len(targets)\n",
    "    np.save(LSTM_FILE+typ[:3]+'_'+set_name+\"_target_lstm\",targets)"
   ]
  }
 ],
 "metadata": {
  "kernelspec": {
   "display_name": "Python 2",
   "language": "python",
   "name": "python2"
  },
  "language_info": {
   "codemirror_mode": {
    "name": "ipython",
    "version": 2
   },
   "file_extension": ".py",
   "mimetype": "text/x-python",
   "name": "python",
   "nbconvert_exporter": "python",
   "pygments_lexer": "ipython2",
   "version": "2.7.13"
  },
  "widgets": {
   "state": {},
   "version": "1.1.1"
  }
 },
 "nbformat": 4,
 "nbformat_minor": 1
}
